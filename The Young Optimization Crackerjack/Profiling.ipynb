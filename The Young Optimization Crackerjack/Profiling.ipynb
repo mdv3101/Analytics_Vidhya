{
 "cells": [
  {
   "cell_type": "code",
   "execution_count": 5,
   "metadata": {},
   "outputs": [],
   "source": [
    "import pandas as pd\n",
    "import numpy as np\n",
    "%matplotlib inline\n",
    "import matplotlib.pyplot as plt\n",
    "\n",
    "import os\n",
    "import pandas_profiling"
   ]
  },
  {
   "cell_type": "code",
   "execution_count": 6,
   "metadata": {
    "collapsed": true
   },
   "outputs": [],
   "source": [
    "curr_dir= os.getcwd()"
   ]
  },
  {
   "cell_type": "code",
   "execution_count": 7,
   "metadata": {
    "collapsed": true
   },
   "outputs": [],
   "source": [
    "train_changover_cost = pd.read_csv(curr_dir+\"//Train//changeover_cost.csv\")\n",
    "train_changover_days = pd.read_csv(curr_dir+\"//Train//changeover_days.csv\")\n",
    "train_delivery_cost = pd.read_csv(curr_dir+\"//Train//delivery_cost.csv\")\n",
    "train_demand_price = pd.read_csv(curr_dir+\"//Train//demand_price.csv\")\n",
    "train_fixed_cost = pd.read_csv(curr_dir+\"//Train//fixed_cost.csv\")\n",
    "train_historical_demand = pd.read_csv(curr_dir+\"//Train//historical_demand.csv\")\n",
    "train_production_capacity = pd.read_csv(curr_dir+\"//Train//production_capacity.csv\")\n",
    "train_production_cost = pd.read_csv(curr_dir+\"//Train//production_cost.csv\")"
   ]
  },
  {
   "cell_type": "code",
   "execution_count": 17,
   "metadata": {},
   "outputs": [],
   "source": [
    "test_demand_forecast = pd.read_csv(curr_dir+\"//Test/demand_forecast.csv\")\n",
    "test_manufacture_sequence = pd.read_csv(curr_dir+\"//Test/manufacture_sequence.csv\")\n",
    "test_shipping_region = pd.read_csv(curr_dir+\"//Test/shipping_region.csv\")"
   ]
  },
  {
   "cell_type": "code",
   "execution_count": null,
   "metadata": {
    "collapsed": true
   },
   "outputs": [],
   "source": []
  }
 ],
 "metadata": {
  "kernelspec": {
   "display_name": "Python 3",
   "language": "python",
   "name": "python3"
  },
  "language_info": {
   "codemirror_mode": {
    "name": "ipython",
    "version": 3
   },
   "file_extension": ".py",
   "mimetype": "text/x-python",
   "name": "python",
   "nbconvert_exporter": "python",
   "pygments_lexer": "ipython3",
   "version": "3.6.1"
  }
 },
 "nbformat": 4,
 "nbformat_minor": 2
}
